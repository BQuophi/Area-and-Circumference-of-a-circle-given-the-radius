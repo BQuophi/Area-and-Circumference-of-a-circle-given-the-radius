{
 "cells": [
  {
   "cell_type": "code",
   "execution_count": 9,
   "id": "0299253d",
   "metadata": {},
   "outputs": [],
   "source": [
    "# Python program that takes as input the radius of a circle and return the area and circumference\n",
    "from math import pi\n",
    "def radius(r):\n",
    "    Area = pi*r**2\n",
    "    Circumference = 2 * pi * r\n",
    "    return Area, Circumference\n",
    "    "
   ]
  },
  {
   "cell_type": "code",
   "execution_count": 10,
   "id": "3456d1e7",
   "metadata": {},
   "outputs": [
    {
     "data": {
      "text/plain": [
       "(28.274333882308138, 18.84955592153876)"
      ]
     },
     "execution_count": 10,
     "metadata": {},
     "output_type": "execute_result"
    }
   ],
   "source": [
    "radius(3)"
   ]
  },
  {
   "cell_type": "code",
   "execution_count": 11,
   "id": "48b6cea1",
   "metadata": {},
   "outputs": [
    {
     "name": "stdout",
     "output_type": "stream",
     "text": [
      "Enter the radius: 3\n",
      "Area = 28.274333882308138 and Circumference = 18.84955592153876\n"
     ]
    }
   ],
   "source": [
    "from math import pi\n",
    "r = int(input('Enter the radius: '))\n",
    "Area = pi * r ** 2\n",
    "Circumference = 2 * pi * r \n",
    "print('Area = ' + str(Area) + ' and Circumference = ' + str(Circumference) )"
   ]
  },
  {
   "cell_type": "code",
   "execution_count": null,
   "id": "f8367f7a",
   "metadata": {},
   "outputs": [],
   "source": []
  },
  {
   "cell_type": "code",
   "execution_count": null,
   "id": "7e510b0e",
   "metadata": {},
   "outputs": [],
   "source": []
  }
 ],
 "metadata": {
  "kernelspec": {
   "display_name": "Python 3",
   "language": "python",
   "name": "python3"
  },
  "language_info": {
   "codemirror_mode": {
    "name": "ipython",
    "version": 3
   },
   "file_extension": ".py",
   "mimetype": "text/x-python",
   "name": "python",
   "nbconvert_exporter": "python",
   "pygments_lexer": "ipython3",
   "version": "3.8.8"
  }
 },
 "nbformat": 4,
 "nbformat_minor": 5
}
